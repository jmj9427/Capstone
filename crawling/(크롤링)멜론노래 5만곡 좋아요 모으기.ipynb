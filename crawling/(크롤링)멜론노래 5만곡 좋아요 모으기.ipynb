{
 "cells": [
  {
   "cell_type": "code",
   "execution_count": 77,
   "metadata": {},
   "outputs": [],
   "source": [
    "import pandas as pd\n",
    "song=pd.read_excel('final_song+tag.xlsx')[['songid','songtitle']]"
   ]
  },
  {
   "cell_type": "code",
   "execution_count": 78,
   "metadata": {
    "scrolled": true
   },
   "outputs": [],
   "source": [
    "import urllib.request,json\n",
    "url='https://www.melon.com/commonlike/getSongLike.json?contsIds='"
   ]
  },
  {
   "cell_type": "code",
   "execution_count": 85,
   "metadata": {},
   "outputs": [],
   "source": [
    "song['songid']=song['songid'].apply(lambda x : str(x))"
   ]
  },
  {
   "cell_type": "code",
   "execution_count": 111,
   "metadata": {
    "scrolled": true
   },
   "outputs": [],
   "source": [
    "songid='%2C'.join(song['songid'][0:500])\n",
    "i=list(range(0,len(song),500))\n",
    "j=list(range(500,len(song),500))"
   ]
  },
  {
   "cell_type": "code",
   "execution_count": 114,
   "metadata": {},
   "outputs": [],
   "source": [
    "ij=zip(i,j)"
   ]
  },
  {
   "cell_type": "code",
   "execution_count": 115,
   "metadata": {
    "scrolled": true
   },
   "outputs": [
    {
     "name": "stdout",
     "output_type": "stream",
     "text": [
      "0 500\n",
      "500 1000\n",
      "1000 1500\n",
      "1500 2000\n",
      "2000 2500\n",
      "2500 3000\n",
      "3000 3500\n",
      "3500 4000\n",
      "4000 4500\n",
      "4500 5000\n",
      "5000 5500\n",
      "5500 6000\n",
      "6000 6500\n",
      "6500 7000\n",
      "7000 7500\n",
      "7500 8000\n",
      "8000 8500\n",
      "8500 9000\n",
      "9000 9500\n",
      "9500 10000\n",
      "10000 10500\n",
      "10500 11000\n",
      "11000 11500\n",
      "11500 12000\n",
      "12000 12500\n",
      "12500 13000\n",
      "13000 13500\n",
      "13500 14000\n",
      "14000 14500\n",
      "14500 15000\n",
      "15000 15500\n",
      "15500 16000\n",
      "16000 16500\n",
      "16500 17000\n",
      "17000 17500\n",
      "17500 18000\n",
      "18000 18500\n",
      "18500 19000\n",
      "19000 19500\n",
      "19500 20000\n",
      "20000 20500\n",
      "20500 21000\n",
      "21000 21500\n",
      "21500 22000\n",
      "22000 22500\n",
      "22500 23000\n",
      "23000 23500\n",
      "23500 24000\n",
      "24000 24500\n",
      "24500 25000\n",
      "25000 25500\n",
      "25500 26000\n",
      "26000 26500\n",
      "26500 27000\n",
      "27000 27500\n",
      "27500 28000\n",
      "28000 28500\n",
      "28500 29000\n",
      "29000 29500\n",
      "29500 30000\n",
      "30000 30500\n",
      "30500 31000\n",
      "31000 31500\n",
      "31500 32000\n",
      "32000 32500\n",
      "32500 33000\n",
      "33000 33500\n",
      "33500 34000\n",
      "34000 34500\n",
      "34500 35000\n",
      "35000 35500\n",
      "35500 36000\n",
      "36000 36500\n",
      "36500 37000\n",
      "37000 37500\n",
      "37500 38000\n",
      "38000 38500\n",
      "38500 39000\n",
      "39000 39500\n",
      "39500 40000\n",
      "40000 40500\n",
      "40500 41000\n",
      "41000 41500\n",
      "41500 42000\n",
      "42000 42500\n",
      "42500 43000\n",
      "43000 43500\n",
      "43500 44000\n",
      "44000 44500\n",
      "44500 45000\n",
      "45000 45500\n",
      "45500 46000\n",
      "46000 46500\n",
      "46500 47000\n",
      "47000 47500\n",
      "47500 48000\n",
      "48000 48500\n",
      "48500 49000\n",
      "49000 49500\n",
      "49500 50000\n",
      "50000 50500\n",
      "50500 51000\n",
      "51000 51500\n",
      "51500 52000\n",
      "52000 52500\n",
      "52500 53000\n",
      "53000 53500\n",
      "53500 54000\n",
      "54000 54500\n"
     ]
    }
   ],
   "source": [
    "songids=[]\n",
    "like=[]\n",
    "for i,j in ij:\n",
    "    print(i,j)\n",
    "    songid='%2C'.join(song['songid'][i:j])\n",
    "    with urllib.request.urlopen(url+songid) as urls:\n",
    "        data = json.loads(urls.read().decode())\n",
    "        for elm in data['contsLike']:\n",
    "            songids.append(elm['CONTSID'])\n",
    "            like.append(elm['SUMMCNT'])\n",
    "            \n"
   ]
  },
  {
   "cell_type": "code",
   "execution_count": 118,
   "metadata": {},
   "outputs": [],
   "source": [
    "songid='%2C'.join(song['songid'][54500:])\n",
    "with urllib.request.urlopen(url+songid) as urls:\n",
    "    data = json.loads(urls.read().decode())\n",
    "    for elm in data['contsLike']:\n",
    "        songids.append(elm['CONTSID'])\n",
    "        like.append(elm['SUMMCNT'])"
   ]
  },
  {
   "cell_type": "code",
   "execution_count": 121,
   "metadata": {
    "scrolled": true
   },
   "outputs": [],
   "source": [
    "lk=pd.DataFrame({'songid':songids,\n",
    "             'like':like})"
   ]
  },
  {
   "cell_type": "code",
   "execution_count": 122,
   "metadata": {},
   "outputs": [],
   "source": [
    "lk.to_excel('song+like.xlsx',index=False)"
   ]
  }
 ],
 "metadata": {
  "kernelspec": {
   "display_name": "Python 3",
   "language": "python",
   "name": "python3"
  },
  "language_info": {
   "codemirror_mode": {
    "name": "ipython",
    "version": 3
   },
   "file_extension": ".py",
   "mimetype": "text/x-python",
   "name": "python",
   "nbconvert_exporter": "python",
   "pygments_lexer": "ipython3",
   "version": "3.6.3"
  }
 },
 "nbformat": 4,
 "nbformat_minor": 2
}
